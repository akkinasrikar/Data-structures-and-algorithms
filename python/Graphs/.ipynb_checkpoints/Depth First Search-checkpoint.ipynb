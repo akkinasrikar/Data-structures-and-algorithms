{
 "cells": [
  {
   "cell_type": "code",
   "execution_count": 1,
   "metadata": {},
   "outputs": [],
   "source": [
    "AM =[[0, 0, 0, 0, 0, 0, 0, 0],\n",
    "     [0, 0, 1, 1, 1, 0, 0, 0],\n",
    "     [0, 1, 0, 1, 0, 0, 0, 0],\n",
    "     [0, 1, 1, 0, 1, 1, 0, 0],\n",
    "     [0, 1, 0, 1, 0, 1, 0, 0],\n",
    "     [0, 0, 0, 1, 1, 0, 1, 1],\n",
    "     [0, 0, 0, 0, 0, 1, 0, 0],\n",
    "     [0, 0, 0, 0, 0, 1, 0, 0]]"
   ]
  },
  {
   "cell_type": "code",
   "execution_count": 2,
   "metadata": {},
   "outputs": [],
   "source": [
    "def depth_first_search(vertex,AM,n,visited):\n",
    "    if visited[vertex]==0:\n",
    "        print(vertex,end=\" \")\n",
    "        visited[vertex]=1\n",
    "        for i in range(1,n):\n",
    "            if AM[vertex][i]==1 and visited[i]==0:\n",
    "                depth_first_search(i,AM,n,visited)"
   ]
  },
  {
   "cell_type": "code",
   "execution_count": 3,
   "metadata": {},
   "outputs": [
    {
     "name": "stdout",
     "output_type": "stream",
     "text": [
      "1 2 3 4 5 6 7 "
     ]
    }
   ],
   "source": [
    "depth_first_search(1,AM,8,[0]*8)"
   ]
  },
  {
   "cell_type": "code",
   "execution_count": 4,
   "metadata": {},
   "outputs": [
    {
     "name": "stdout",
     "output_type": "stream",
     "text": [
      "4 1 2 3 5 6 7 "
     ]
    }
   ],
   "source": [
    "depth_first_search(4,AM,8,[0]*8)"
   ]
  },
  {
   "cell_type": "code",
   "execution_count": 5,
   "metadata": {},
   "outputs": [
    {
     "name": "stdout",
     "output_type": "stream",
     "text": [
      "7 5 3 1 2 4 6 "
     ]
    }
   ],
   "source": [
    "depth_first_search(7,AM,8,[0]*8)"
   ]
  }
 ],
 "metadata": {
  "kernelspec": {
   "display_name": "Python 3",
   "language": "python",
   "name": "python3"
  },
  "language_info": {
   "codemirror_mode": {
    "name": "ipython",
    "version": 3
   },
   "file_extension": ".py",
   "mimetype": "text/x-python",
   "name": "python",
   "nbconvert_exporter": "python",
   "pygments_lexer": "ipython3",
   "version": "3.7.3"
  }
 },
 "nbformat": 4,
 "nbformat_minor": 2
}
