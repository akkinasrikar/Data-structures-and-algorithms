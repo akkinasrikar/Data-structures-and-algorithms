{
 "cells": [
  {
   "cell_type": "code",
   "execution_count": 59,
   "metadata": {},
   "outputs": [],
   "source": [
    "AM = [[0, 0, 0, 0, 0, 0, 0, 0],\n",
    "      [0, 0, 1, 1, 1, 0, 0, 0],\n",
    "      [0, 1, 0, 1, 0, 0, 0, 0],\n",
    "      [0, 1, 1, 0, 1, 1, 0, 0],\n",
    "      [0, 1, 0, 1, 0, 1, 0, 0],\n",
    "      [0, 0, 0, 1, 1, 0, 1, 1],\n",
    "      [0, 0, 0, 0, 0, 1, 0, 0],\n",
    "      [0, 0, 0, 0, 0, 1, 0, 0]]"
   ]
  },
  {
   "cell_type": "code",
   "execution_count": 62,
   "metadata": {},
   "outputs": [],
   "source": [
    "def Breadth_First_search(vertex,AM,n):\n",
    "    \n",
    "    visited = [0]*(n)\n",
    "    q = []\n",
    "    \n",
    "    print(\"BFS : \",end=\" \")\n",
    "    print(vertex,end=\" \")\n",
    "    visited[vertex] = 1\n",
    "    q.append(vertex)\n",
    "    while(q!=[]):\n",
    "        u = q[0]\n",
    "        q.remove(q[0])\n",
    "        for v in range(1,n):\n",
    "            if (AM[u][v]==1 and visited[v]==0):\n",
    "                print(v,end=\" \")\n",
    "                visited[v]=1\n",
    "                q.append(v)"
   ]
  },
  {
   "cell_type": "code",
   "execution_count": 63,
   "metadata": {},
   "outputs": [
    {
     "name": "stdout",
     "output_type": "stream",
     "text": [
      "BFS :  1 2 3 4 5 6 7 "
     ]
    }
   ],
   "source": [
    "Breadth_First_search(1,AM,8)"
   ]
  },
  {
   "cell_type": "code",
   "execution_count": 64,
   "metadata": {},
   "outputs": [
    {
     "name": "stdout",
     "output_type": "stream",
     "text": [
      "BFS :  4 1 3 5 2 6 7 "
     ]
    }
   ],
   "source": [
    "Breadth_First_search(4,AM,8)"
   ]
  },
  {
   "cell_type": "code",
   "execution_count": 65,
   "metadata": {},
   "outputs": [
    {
     "name": "stdout",
     "output_type": "stream",
     "text": [
      "BFS :  7 5 3 4 6 1 2 "
     ]
    }
   ],
   "source": [
    "Breadth_First_search(7,AM,8)"
   ]
  },
  {
   "cell_type": "code",
   "execution_count": null,
   "metadata": {},
   "outputs": [],
   "source": []
  }
 ],
 "metadata": {
  "kernelspec": {
   "display_name": "Python 3",
   "language": "python",
   "name": "python3"
  },
  "language_info": {
   "codemirror_mode": {
    "name": "ipython",
    "version": 3
   },
   "file_extension": ".py",
   "mimetype": "text/x-python",
   "name": "python",
   "nbconvert_exporter": "python",
   "pygments_lexer": "ipython3",
   "version": "3.7.3"
  }
 },
 "nbformat": 4,
 "nbformat_minor": 2
}
