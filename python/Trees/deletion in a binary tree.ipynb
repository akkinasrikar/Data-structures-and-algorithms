{
 "cells": [
  {
   "cell_type": "code",
   "execution_count": 1,
   "metadata": {},
   "outputs": [],
   "source": [
    "class Tree:\n",
    "    \n",
    "    class Node:\n",
    "        def __init__(self,value):\n",
    "            self.data=value\n",
    "            self.left=None\n",
    "            self.right=None\n",
    "            \n",
    "    def  deletedeepest(self,root,Dnode):\n",
    "        \n",
    "        q=[]\n",
    "        q.append(root)\n",
    "        \n",
    "        while(len(q)):\n",
    "            temp=q[0]\n",
    "            q.pop(0)\n",
    "            if temp is Dnode:\n",
    "                temp=None\n",
    "                return\n",
    "            if temp.right:\n",
    "                if temp.right is Dnode:\n",
    "                    temp.right=None\n",
    "                    return\n",
    "                else:\n",
    "                    q.append(temp.right)\n",
    "                    \n",
    "            if temp.left:\n",
    "                if temp.left is Dnode:\n",
    "                    temp.left=None\n",
    "                    return\n",
    "                else:\n",
    "                    q.append(temp.left)\n",
    "    \n",
    "    def deletion(self,root,key):\n",
    "        \n",
    "        if root==None:\n",
    "            return\n",
    "        if root.left==None and root.right==None:\n",
    "            if root.data==key:\n",
    "                return None\n",
    "            else:\n",
    "                return root\n",
    "                \n",
    "        key_node=None\n",
    "        q=[]\n",
    "        q.append(root)\n",
    "        \n",
    "        while(len(q)):\n",
    "            temp=q[0]\n",
    "            q.pop(0)\n",
    "            \n",
    "            if temp.data==key:\n",
    "                key_node=temp\n",
    "            if temp.left:\n",
    "                q.append(temp.left)\n",
    "            if temp.right:\n",
    "                q.append(temp.right)\n",
    "        if key_node:\n",
    "            x=temp.data\n",
    "            self.deletedeepest(root,temp)\n",
    "            key_node.data=x\n",
    "        return root\n",
    "             \n",
    "    def inorder(self,temp):\n",
    "        \n",
    "        if temp==None:\n",
    "            return\n",
    "        \n",
    "        self.inorder(temp.left)\n",
    "        print(temp.data,end=\" \")\n",
    "        self.inorder(temp.right)\n",
    "        "
   ]
  },
  {
   "cell_type": "code",
   "execution_count": 2,
   "metadata": {},
   "outputs": [],
   "source": [
    "tree=Tree()"
   ]
  },
  {
   "cell_type": "code",
   "execution_count": 3,
   "metadata": {},
   "outputs": [],
   "source": [
    "root=tree.Node(10)"
   ]
  },
  {
   "cell_type": "code",
   "execution_count": 4,
   "metadata": {},
   "outputs": [],
   "source": [
    "root.left=tree.Node(11)"
   ]
  },
  {
   "cell_type": "code",
   "execution_count": 5,
   "metadata": {},
   "outputs": [],
   "source": [
    "root.left.left=tree.Node(7)\n",
    "root.left.right=tree.Node(12)"
   ]
  },
  {
   "cell_type": "code",
   "execution_count": 6,
   "metadata": {},
   "outputs": [],
   "source": [
    "root.right=tree.Node(9)"
   ]
  },
  {
   "cell_type": "code",
   "execution_count": 7,
   "metadata": {},
   "outputs": [],
   "source": [
    "root.right.left=tree.Node(15)\n",
    "root.right.right=tree.Node(8)"
   ]
  },
  {
   "cell_type": "code",
   "execution_count": 8,
   "metadata": {},
   "outputs": [
    {
     "name": "stdout",
     "output_type": "stream",
     "text": [
      "7 11 12 10 15 9 8 "
     ]
    }
   ],
   "source": [
    "tree.inorder(root)"
   ]
  },
  {
   "cell_type": "code",
   "execution_count": 9,
   "metadata": {},
   "outputs": [
    {
     "data": {
      "text/plain": [
       "<__main__.Tree.Node at 0x24661821fd0>"
      ]
     },
     "execution_count": 9,
     "metadata": {},
     "output_type": "execute_result"
    }
   ],
   "source": [
    "tree.deletion(root,11)"
   ]
  },
  {
   "cell_type": "code",
   "execution_count": 10,
   "metadata": {},
   "outputs": [
    {
     "name": "stdout",
     "output_type": "stream",
     "text": [
      "7 8 12 10 15 9 "
     ]
    }
   ],
   "source": [
    "tree.inorder(root)"
   ]
  },
  {
   "cell_type": "code",
   "execution_count": null,
   "metadata": {},
   "outputs": [],
   "source": []
  }
 ],
 "metadata": {
  "kernelspec": {
   "display_name": "Python 3",
   "language": "python",
   "name": "python3"
  },
  "language_info": {
   "codemirror_mode": {
    "name": "ipython",
    "version": 3
   },
   "file_extension": ".py",
   "mimetype": "text/x-python",
   "name": "python",
   "nbconvert_exporter": "python",
   "pygments_lexer": "ipython3",
   "version": "3.7.3"
  }
 },
 "nbformat": 4,
 "nbformat_minor": 2
}
