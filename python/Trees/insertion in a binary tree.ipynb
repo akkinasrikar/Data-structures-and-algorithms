{
 "cells": [
  {
   "cell_type": "code",
   "execution_count": 1,
   "metadata": {},
   "outputs": [],
   "source": [
    "class Tree:\n",
    "    \n",
    "    class Node:\n",
    "        def __init__(self,value):\n",
    "            self.data=value\n",
    "            self.left=None\n",
    "            self.right=None\n",
    "    \n",
    "    def insert(self,temp,key):\n",
    "        \n",
    "        if not temp:\n",
    "            root=self.Node(key)\n",
    "            return root\n",
    "        \n",
    "        q=[]\n",
    "        q.append(temp)\n",
    "        \n",
    "        while(len(q)):\n",
    "            temp=q[0]\n",
    "            q.pop(0)\n",
    "            \n",
    "            if temp.left==None:\n",
    "                temp.left=self.Node(key)\n",
    "                break\n",
    "            else:\n",
    "                q.append(temp.left)\n",
    "            \n",
    "            if temp.right==None:\n",
    "                temp.right=self.Node(key)\n",
    "                break\n",
    "            else:\n",
    "                q.append(temp.right)\n",
    "             \n",
    "    def inorder(self,temp):\n",
    "        \n",
    "        if temp==None:\n",
    "            return\n",
    "        \n",
    "        self.inorder(temp.left)\n",
    "        print(temp.data,end=\" \")\n",
    "        self.inorder(temp.right)\n",
    "        "
   ]
  },
  {
   "cell_type": "code",
   "execution_count": 2,
   "metadata": {},
   "outputs": [],
   "source": [
    "tree=Tree()"
   ]
  },
  {
   "cell_type": "code",
   "execution_count": 3,
   "metadata": {},
   "outputs": [],
   "source": [
    "root=tree.Node(10)"
   ]
  },
  {
   "cell_type": "code",
   "execution_count": 4,
   "metadata": {},
   "outputs": [],
   "source": [
    "root.left=tree.Node(11)"
   ]
  },
  {
   "cell_type": "code",
   "execution_count": 5,
   "metadata": {},
   "outputs": [],
   "source": [
    "root.left.left=tree.Node(7)\n",
    "root.left.right=tree.Node(12)"
   ]
  },
  {
   "cell_type": "code",
   "execution_count": 6,
   "metadata": {},
   "outputs": [],
   "source": [
    "root.right=tree.Node(9)"
   ]
  },
  {
   "cell_type": "code",
   "execution_count": 7,
   "metadata": {},
   "outputs": [],
   "source": [
    "root.right.left=tree.Node(15)\n",
    "root.right.right=tree.Node(8)"
   ]
  },
  {
   "cell_type": "code",
   "execution_count": 8,
   "metadata": {},
   "outputs": [
    {
     "name": "stdout",
     "output_type": "stream",
     "text": [
      "7 11 12 10 15 9 8 "
     ]
    }
   ],
   "source": [
    "tree.inorder(root)"
   ]
  },
  {
   "cell_type": "code",
   "execution_count": 9,
   "metadata": {},
   "outputs": [
    {
     "name": "stdout",
     "output_type": "stream",
     "text": [
      "100 7 11 12 10 15 9 8 "
     ]
    }
   ],
   "source": [
    "tree.insert(root,100)\n",
    "tree.inorder(root)"
   ]
  },
  {
   "cell_type": "code",
   "execution_count": 10,
   "metadata": {},
   "outputs": [
    {
     "name": "stdout",
     "output_type": "stream",
     "text": [
      "100 7 101 11 12 10 15 9 8 "
     ]
    }
   ],
   "source": [
    "tree.insert(root,101)\n",
    "tree.inorder(root)"
   ]
  },
  {
   "cell_type": "code",
   "execution_count": 11,
   "metadata": {},
   "outputs": [
    {
     "name": "stdout",
     "output_type": "stream",
     "text": [
      "100 7 101 11 102 12 10 15 9 8 "
     ]
    }
   ],
   "source": [
    "tree.insert(root,102)\n",
    "tree.inorder(root)"
   ]
  }
 ],
 "metadata": {
  "kernelspec": {
   "display_name": "Python 3",
   "language": "python",
   "name": "python3"
  },
  "language_info": {
   "codemirror_mode": {
    "name": "ipython",
    "version": 3
   },
   "file_extension": ".py",
   "mimetype": "text/x-python",
   "name": "python",
   "nbconvert_exporter": "python",
   "pygments_lexer": "ipython3",
   "version": "3.7.3"
  }
 },
 "nbformat": 4,
 "nbformat_minor": 2
}
