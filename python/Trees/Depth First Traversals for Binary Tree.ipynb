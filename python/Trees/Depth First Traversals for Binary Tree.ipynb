{
 "cells": [
  {
   "cell_type": "code",
   "execution_count": 24,
   "metadata": {},
   "outputs": [],
   "source": [
    "class Tree:\n",
    "    \n",
    "    class Node:\n",
    "        def __init__(self,value):\n",
    "            self.data=value\n",
    "            self.left=None\n",
    "            self.right=None\n",
    "    \n",
    "    def insert(self,temp,key):\n",
    "        \n",
    "        if not temp:\n",
    "            root=self.Node(key)\n",
    "            return root\n",
    "        \n",
    "        q=[]\n",
    "        q.append(temp)\n",
    "        \n",
    "        while(len(q)):\n",
    "            temp=q[0]\n",
    "            q.pop(0)\n",
    "            \n",
    "            if temp.left==None:\n",
    "                temp.left=self.Node(key)\n",
    "                break\n",
    "            else:\n",
    "                q.append(temp.left)\n",
    "            \n",
    "            if temp.right==None:\n",
    "                temp.right=self.Node(key)\n",
    "                break\n",
    "            else:\n",
    "                q.append(temp.right)\n",
    "             \n",
    "    def inorder(self,temp):\n",
    "        \n",
    "        if temp==None:\n",
    "            return\n",
    "        \n",
    "        self.inorder(temp.left)\n",
    "        print(temp.data,end=\" \")\n",
    "        self.inorder(temp.right)\n",
    "        \n",
    "    def preorder(self,temp):\n",
    "        \n",
    "        if temp==None:\n",
    "            return\n",
    "        print(temp.data,end=\" \")\n",
    "        self.preorder(temp.left)\n",
    "        self.preorder(temp.right)\n",
    "        \n",
    "    def postorder(self,temp):\n",
    "        \n",
    "        if temp==None:\n",
    "             return\n",
    "        self.postorder(temp.left)\n",
    "        self.postorder(temp.right)\n",
    "        print(temp.data,end=\" \")"
   ]
  },
  {
   "cell_type": "code",
   "execution_count": 25,
   "metadata": {},
   "outputs": [],
   "source": [
    "tree=Tree()"
   ]
  },
  {
   "cell_type": "code",
   "execution_count": 26,
   "metadata": {},
   "outputs": [],
   "source": [
    "root=tree.Node(1)\n",
    "root.left=tree.Node(2)\n",
    "root.right=tree.Node(3)\n",
    "root.left.left=tree.Node(4)\n",
    "root.left.right=tree.Node(5)"
   ]
  },
  {
   "cell_type": "code",
   "execution_count": 27,
   "metadata": {},
   "outputs": [
    {
     "name": "stdout",
     "output_type": "stream",
     "text": [
      "4 2 5 1 3 "
     ]
    }
   ],
   "source": [
    "tree.inorder(root)"
   ]
  },
  {
   "cell_type": "code",
   "execution_count": 28,
   "metadata": {},
   "outputs": [
    {
     "name": "stdout",
     "output_type": "stream",
     "text": [
      "1 2 4 5 3 "
     ]
    }
   ],
   "source": [
    "tree.preorder(root)"
   ]
  },
  {
   "cell_type": "code",
   "execution_count": 29,
   "metadata": {},
   "outputs": [
    {
     "name": "stdout",
     "output_type": "stream",
     "text": [
      "4 5 2 3 1 "
     ]
    }
   ],
   "source": [
    "tree.postorder(root)"
   ]
  }
 ],
 "metadata": {
  "kernelspec": {
   "display_name": "Python 3",
   "language": "python",
   "name": "python3"
  },
  "language_info": {
   "codemirror_mode": {
    "name": "ipython",
    "version": 3
   },
   "file_extension": ".py",
   "mimetype": "text/x-python",
   "name": "python",
   "nbconvert_exporter": "python",
   "pygments_lexer": "ipython3",
   "version": "3.7.3"
  }
 },
 "nbformat": 4,
 "nbformat_minor": 2
}
