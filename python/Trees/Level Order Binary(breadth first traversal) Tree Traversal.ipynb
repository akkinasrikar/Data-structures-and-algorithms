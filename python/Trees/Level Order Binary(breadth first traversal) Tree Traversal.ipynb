{
 "cells": [
  {
   "cell_type": "markdown",
   "metadata": {},
   "source": [
    "# Method 1"
   ]
  },
  {
   "cell_type": "code",
   "execution_count": 29,
   "metadata": {},
   "outputs": [],
   "source": [
    "class Tree:\n",
    "    \n",
    "    class Node:\n",
    "        def __init__(self,value):\n",
    "            self.data=value\n",
    "            self.left=None\n",
    "            self.right=None\n",
    "    \n",
    "    def insert(self,temp,key):\n",
    "        \n",
    "        if not temp:\n",
    "            root=self.Node(key)\n",
    "            return root\n",
    "        \n",
    "        q=[]\n",
    "        q.append(temp)\n",
    "        \n",
    "        while(len(q)):\n",
    "            temp=q[0]\n",
    "            q.pop(0)\n",
    "            \n",
    "            if temp.left==None:\n",
    "                temp.left=self.Node(key)\n",
    "                break\n",
    "            else:\n",
    "                q.append(temp.left)\n",
    "            \n",
    "            if temp.right==None:\n",
    "                temp.right=self.Node(key)\n",
    "                break\n",
    "            else:\n",
    "                q.append(temp.right)\n",
    "                \n",
    "    def height(self,node):\n",
    "        if node is None:\n",
    "            return 0\n",
    "        else:\n",
    "            lheight=self.height(node.left)\n",
    "            rheight=self.height(node.right)\n",
    "            \n",
    "            if lheight>rheight:\n",
    "                return lheight+1\n",
    "            else:\n",
    "                return rheight+1\n",
    "            \n",
    "    def printGivenLevel(self,root,level):\n",
    "        \n",
    "        if root is None:\n",
    "            return\n",
    "        if level==1:\n",
    "            print(root.data,end=\" \")\n",
    "        elif level>1:\n",
    "            self.printGivenLevel(root.left,level-1)\n",
    "            self.printGivenLevel(root.right,level-1)\n",
    "    \n",
    "    def printLevelOrder(self,root):\n",
    "        h=self.height(root)\n",
    "        print(f\"height={h}\")\n",
    "        for i in range(1,h+1):\n",
    "            self.printGivenLevel(root,i)\n",
    "        "
   ]
  },
  {
   "cell_type": "code",
   "execution_count": 30,
   "metadata": {},
   "outputs": [],
   "source": [
    "tree=Tree()"
   ]
  },
  {
   "cell_type": "code",
   "execution_count": 31,
   "metadata": {},
   "outputs": [],
   "source": [
    "root=tree.Node(1)\n",
    "root.left=tree.Node(2)\n",
    "root.right=tree.Node(3)\n",
    "root.left.left=tree.Node(4)\n",
    "root.left.right=tree.Node(5)"
   ]
  },
  {
   "cell_type": "code",
   "execution_count": 32,
   "metadata": {},
   "outputs": [
    {
     "name": "stdout",
     "output_type": "stream",
     "text": [
      "Level order traversal of binary tree is \n",
      "height=3\n",
      "1 2 3 4 5 "
     ]
    }
   ],
   "source": [
    "print(\"Level order traversal of binary tree is \")\n",
    "tree.printLevelOrder(root)"
   ]
  },
  {
   "cell_type": "markdown",
   "metadata": {},
   "source": [
    "# Method 2"
   ]
  },
  {
   "cell_type": "code",
   "execution_count": 33,
   "metadata": {},
   "outputs": [],
   "source": [
    "class Tree:\n",
    "    \n",
    "    class Node:\n",
    "        def __init__(self,value):\n",
    "            self.data=value\n",
    "            self.left=None\n",
    "            self.right=None\n",
    "    \n",
    "    def insert(self,temp,key):\n",
    "        \n",
    "        if not temp:\n",
    "            root=self.Node(key)\n",
    "            return root\n",
    "        \n",
    "        q=[]\n",
    "        q.append(temp)\n",
    "        \n",
    "        while(len(q)):\n",
    "            temp=q[0]\n",
    "            q.pop(0)\n",
    "            \n",
    "            if temp.left==None:\n",
    "                temp.left=self.Node(key)\n",
    "                break\n",
    "            else:\n",
    "                q.append(temp.left)\n",
    "            \n",
    "            if temp.right==None:\n",
    "                temp.right=self.Node(key)\n",
    "                break\n",
    "            else:\n",
    "                q.append(temp.right)\n",
    "                \n",
    "    def printLevelOrder(self,root):\n",
    "        \n",
    "        if root is None:\n",
    "            return\n",
    "        \n",
    "        queue=[]\n",
    "        queue.append(root)\n",
    "        \n",
    "        \n",
    "        while(len(queue)>0):\n",
    "            node=queue.pop(0)\n",
    "            print(node.data,end=\" \")\n",
    "            \n",
    "            if node.left is not None:\n",
    "                queue.append(node.left)\n",
    "                \n",
    "            if node.right is not None:\n",
    "                queue.append(node.right)\n",
    " "
   ]
  },
  {
   "cell_type": "code",
   "execution_count": 34,
   "metadata": {},
   "outputs": [],
   "source": [
    "tree=Tree()"
   ]
  },
  {
   "cell_type": "code",
   "execution_count": 35,
   "metadata": {},
   "outputs": [],
   "source": [
    "root=tree.Node(1)\n",
    "root.left=tree.Node(2)\n",
    "root.right=tree.Node(3)\n",
    "root.left.left=tree.Node(4)\n",
    "root.left.right=tree.Node(5)"
   ]
  },
  {
   "cell_type": "code",
   "execution_count": 36,
   "metadata": {},
   "outputs": [
    {
     "name": "stdout",
     "output_type": "stream",
     "text": [
      "Level order traversal of binary tree is \n",
      "1 2 3 4 5 "
     ]
    }
   ],
   "source": [
    "print(\"Level order traversal of binary tree is \")\n",
    "tree.printLevelOrder(root)"
   ]
  },
  {
   "cell_type": "code",
   "execution_count": null,
   "metadata": {},
   "outputs": [],
   "source": []
  }
 ],
 "metadata": {
  "kernelspec": {
   "display_name": "Python 3",
   "language": "python",
   "name": "python3"
  },
  "language_info": {
   "codemirror_mode": {
    "name": "ipython",
    "version": 3
   },
   "file_extension": ".py",
   "mimetype": "text/x-python",
   "name": "python",
   "nbconvert_exporter": "python",
   "pygments_lexer": "ipython3",
   "version": "3.7.3"
  }
 },
 "nbformat": 4,
 "nbformat_minor": 2
}
