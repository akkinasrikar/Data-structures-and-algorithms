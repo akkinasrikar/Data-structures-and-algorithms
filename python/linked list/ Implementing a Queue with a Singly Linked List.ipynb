{
 "cells": [
  {
   "cell_type": "code",
   "execution_count": 9,
   "metadata": {},
   "outputs": [],
   "source": [
    "class Linkedqueue:\n",
    "    \n",
    "    class _Node:\n",
    "        \n",
    "        __slots__='_value','_nextnode'\n",
    "        \n",
    "        def __init__(self,value,nextnode):\n",
    "            self._value=value\n",
    "            self._nextnode=nextnode\n",
    "    \n",
    "    def __init__(self):\n",
    "        self._head=None\n",
    "        self._tail=None\n",
    "        self._size=0\n",
    "        \n",
    "    def __len__(self):\n",
    "        return self._size\n",
    "    \n",
    "    def is_empty(self):\n",
    "        return self._size==0\n",
    "    \n",
    "    \n",
    "    def first(self):\n",
    "        \n",
    "        if self.is_empty():\n",
    "            return \"Queue is empty XD\"\n",
    "        \n",
    "        return self._head._value\n",
    "    \n",
    "    def enqueue(self,element):\n",
    "        newnode=self._Node(element,None)\n",
    "        if self.is_empty():\n",
    "            self._head=newnode\n",
    "        else:\n",
    "            self._tail._nextnode=newnode\n",
    "        self._tail=newnode\n",
    "        self._size+=1\n",
    "    \n",
    "    def dequeue(self):\n",
    "        \n",
    "        if self.is_empty():\n",
    "            return \"Queue is empty XD\"\n",
    "        temp=self._head\n",
    "        self._head=temp._nextnode\n",
    "        self._size-=1\n",
    "        if self.is_empty():\n",
    "            self._tail=None\n",
    "        return temp._value\n",
    "        \n",
    "    def printqueue(self):\n",
    "        temp=self._head\n",
    "        while temp:\n",
    "            print(temp._value,end=\" \")\n",
    "            temp=temp._nextnode"
   ]
  },
  {
   "cell_type": "code",
   "execution_count": 10,
   "metadata": {},
   "outputs": [],
   "source": [
    "lq=Linkedqueue()"
   ]
  },
  {
   "cell_type": "code",
   "execution_count": 11,
   "metadata": {},
   "outputs": [],
   "source": [
    "for i in range(1,10):\n",
    "    lq.enqueue(i)"
   ]
  },
  {
   "cell_type": "code",
   "execution_count": 12,
   "metadata": {},
   "outputs": [
    {
     "name": "stdout",
     "output_type": "stream",
     "text": [
      "1 2 3 4 5 6 7 8 9 "
     ]
    }
   ],
   "source": [
    "lq.printqueue()"
   ]
  },
  {
   "cell_type": "code",
   "execution_count": 13,
   "metadata": {},
   "outputs": [
    {
     "data": {
      "text/plain": [
       "9"
      ]
     },
     "execution_count": 13,
     "metadata": {},
     "output_type": "execute_result"
    }
   ],
   "source": [
    "lq._size"
   ]
  },
  {
   "cell_type": "code",
   "execution_count": 14,
   "metadata": {},
   "outputs": [
    {
     "data": {
      "text/plain": [
       "1"
      ]
     },
     "execution_count": 14,
     "metadata": {},
     "output_type": "execute_result"
    }
   ],
   "source": [
    "lq.dequeue()"
   ]
  },
  {
   "cell_type": "code",
   "execution_count": 15,
   "metadata": {},
   "outputs": [
    {
     "data": {
      "text/plain": [
       "2"
      ]
     },
     "execution_count": 15,
     "metadata": {},
     "output_type": "execute_result"
    }
   ],
   "source": [
    "lq.dequeue()"
   ]
  },
  {
   "cell_type": "code",
   "execution_count": 16,
   "metadata": {},
   "outputs": [
    {
     "name": "stdout",
     "output_type": "stream",
     "text": [
      "3 4 5 6 7 8 9 "
     ]
    }
   ],
   "source": [
    "lq.printqueue()"
   ]
  },
  {
   "cell_type": "code",
   "execution_count": null,
   "metadata": {},
   "outputs": [],
   "source": []
  }
 ],
 "metadata": {
  "kernelspec": {
   "display_name": "Python 3",
   "language": "python",
   "name": "python3"
  },
  "language_info": {
   "codemirror_mode": {
    "name": "ipython",
    "version": 3
   },
   "file_extension": ".py",
   "mimetype": "text/x-python",
   "name": "python",
   "nbconvert_exporter": "python",
   "pygments_lexer": "ipython3",
   "version": "3.7.3"
  }
 },
 "nbformat": 4,
 "nbformat_minor": 2
}
