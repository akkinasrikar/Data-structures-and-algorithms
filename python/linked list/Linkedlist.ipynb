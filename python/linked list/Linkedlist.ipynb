{
 "cells": [
  {
   "cell_type": "code",
   "execution_count": 1,
   "metadata": {},
   "outputs": [],
   "source": [
    "class Node(object):\n",
    "    \n",
    "    def __init__(self,value):\n",
    "        self.value=value\n",
    "        self.nextnode=None"
   ]
  },
  {
   "cell_type": "code",
   "execution_count": 2,
   "metadata": {},
   "outputs": [],
   "source": [
    "a=Node(1)\n",
    "b=Node(2)\n",
    "c=Node(3)"
   ]
  },
  {
   "cell_type": "code",
   "execution_count": 3,
   "metadata": {},
   "outputs": [],
   "source": [
    "a.nextnode=b\n",
    "b.nextnode=c"
   ]
  },
  {
   "cell_type": "code",
   "execution_count": 4,
   "metadata": {},
   "outputs": [
    {
     "name": "stdout",
     "output_type": "stream",
     "text": [
      "1\n",
      "2\n",
      "3\n"
     ]
    }
   ],
   "source": [
    "print(a.value)\n",
    "print(a.nextnode.value)\n",
    "print(b.nextnode.value)"
   ]
  },
  {
   "cell_type": "code",
   "execution_count": 5,
   "metadata": {},
   "outputs": [],
   "source": [
    "class Node(object):\n",
    "    \n",
    "    def __init__(self,value):\n",
    "        self.value=value\n",
    "        self.nextnode=None"
   ]
  },
  {
   "cell_type": "code",
   "execution_count": 6,
   "metadata": {},
   "outputs": [],
   "source": [
    "class Linkedlist:\n",
    "    \n",
    "    def __init__(self):\n",
    "        self.head=None\n",
    "        self.tail=None\n",
    "        self.size=0\n",
    "    \n",
    "    def printlist(self):\n",
    "        temp=self.head\n",
    "        while temp:\n",
    "            print(temp.value,end=\" \")\n",
    "            temp=temp.nextnode\n",
    "            \n",
    "    def insertfirst(self,element):\n",
    "        if self.head==None:\n",
    "            newnode=Node(element)\n",
    "            self.head=newnode\n",
    "            self.tail=newnode\n",
    "        else:\n",
    "            newnode=Node(element)\n",
    "            newnode.nextnode=self.head\n",
    "            self.head=newnode\n",
    "        self.size+=1\n",
    "        \n",
    "    def insertlast(self,element):\n",
    "        newnode=Node(element)\n",
    "        newnode.nextnode=None\n",
    "        self.tail.nextnode=newnode\n",
    "        self.tail=newnode\n",
    "        self.size+=1\n",
    "        \n",
    "    def removefirst(self):\n",
    "        temp=self.head\n",
    "        if temp is not None:\n",
    "            self.head=temp.nextnode\n",
    "        else:\n",
    "            print(\"linked list is empty\")\n",
    "        self.size-=1\n",
    "        \n",
    "    def removenodeposition(self,position):\n",
    "        if self.head==None:\n",
    "            print(\"Linkedlist is empty\")\n",
    "        else:\n",
    "            if position>self.size-1:\n",
    "                print(\"you are out of bounds\")\n",
    "            elif position==0:\n",
    "                temp=self.head\n",
    "                self.head=temp.nextnode\n",
    "                self.size-=1\n",
    "            else:\n",
    "                temp=self.head\n",
    "                for i in range(position-1):\n",
    "                    temp=temp.nextnode\n",
    "                nextnode=temp.nextnode.nextnode\n",
    "                temp.nextnode=None\n",
    "                temp.nextnode=nextnode\n",
    "                self.size-=1\n",
    "    \n",
    "    def length(self):\n",
    "        print(self.size)"
   ]
  },
  {
   "cell_type": "code",
   "execution_count": 7,
   "metadata": {},
   "outputs": [],
   "source": [
    "LL=Linkedlist()"
   ]
  },
  {
   "cell_type": "code",
   "execution_count": 8,
   "metadata": {},
   "outputs": [
    {
     "name": "stdout",
     "output_type": "stream",
     "text": [
      "3 2 1 4 5 "
     ]
    }
   ],
   "source": [
    "LL.insertfirst(1)\n",
    "LL.insertfirst(2)\n",
    "LL.insertfirst(3)\n",
    "LL.insertlast(4)\n",
    "LL.insertlast(5)\n",
    "LL.printlist()"
   ]
  },
  {
   "cell_type": "code",
   "execution_count": 9,
   "metadata": {},
   "outputs": [
    {
     "name": "stdout",
     "output_type": "stream",
     "text": [
      "1 4 5 "
     ]
    }
   ],
   "source": [
    "LL.removefirst()\n",
    "LL.removefirst()\n",
    "LL.printlist()"
   ]
  },
  {
   "cell_type": "code",
   "execution_count": 10,
   "metadata": {},
   "outputs": [
    {
     "name": "stdout",
     "output_type": "stream",
     "text": [
      "3\n"
     ]
    }
   ],
   "source": [
    "LL.length()"
   ]
  },
  {
   "cell_type": "code",
   "execution_count": 11,
   "metadata": {},
   "outputs": [],
   "source": [
    "LL.insertfirst(2)\n",
    "LL.insertfirst(3)"
   ]
  },
  {
   "cell_type": "code",
   "execution_count": 12,
   "metadata": {},
   "outputs": [
    {
     "name": "stdout",
     "output_type": "stream",
     "text": [
      "3 2 1 4 5 "
     ]
    }
   ],
   "source": [
    "LL.printlist()"
   ]
  },
  {
   "cell_type": "code",
   "execution_count": 13,
   "metadata": {},
   "outputs": [],
   "source": [
    "LL.removenodeposition(2)"
   ]
  },
  {
   "cell_type": "code",
   "execution_count": 14,
   "metadata": {},
   "outputs": [
    {
     "name": "stdout",
     "output_type": "stream",
     "text": [
      "3 2 4 5 "
     ]
    }
   ],
   "source": [
    "LL.printlist()"
   ]
  },
  {
   "cell_type": "code",
   "execution_count": 15,
   "metadata": {},
   "outputs": [],
   "source": [
    "LL.insertlast(5)"
   ]
  },
  {
   "cell_type": "code",
   "execution_count": 16,
   "metadata": {},
   "outputs": [
    {
     "name": "stdout",
     "output_type": "stream",
     "text": [
      "3 2 4 5 5 "
     ]
    }
   ],
   "source": [
    "LL.printlist()"
   ]
  },
  {
   "cell_type": "code",
   "execution_count": null,
   "metadata": {},
   "outputs": [],
   "source": []
  }
 ],
 "metadata": {
  "kernelspec": {
   "display_name": "Python 3",
   "language": "python",
   "name": "python3"
  },
  "language_info": {
   "codemirror_mode": {
    "name": "ipython",
    "version": 3
   },
   "file_extension": ".py",
   "mimetype": "text/x-python",
   "name": "python",
   "nbconvert_exporter": "python",
   "pygments_lexer": "ipython3",
   "version": "3.7.3"
  }
 },
 "nbformat": 4,
 "nbformat_minor": 2
}
