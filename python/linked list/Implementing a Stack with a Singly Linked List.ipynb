{
 "cells": [
  {
   "cell_type": "code",
   "execution_count": 1,
   "metadata": {},
   "outputs": [],
   "source": [
    "class Linkedstack:\n",
    "    \n",
    "    class _Node:\n",
    "        \n",
    "        __slots__='_value','_nextnode'\n",
    "        \n",
    "        def __init__(self,value,nextnode):\n",
    "            self._value=value\n",
    "            self._nextnode=nextnode\n",
    "    \n",
    "    def __init__(self):\n",
    "        self._head=None\n",
    "        self._size=0\n",
    "        \n",
    "    def __len__(self):\n",
    "        return self._size\n",
    "    \n",
    "    def is_empty(self):\n",
    "        return self._size==0\n",
    "    \n",
    "    def push(self,element):\n",
    "        \n",
    "        self._head=self._Node(element,self._head)\n",
    "        self._size+=1\n",
    "    \n",
    "    def top(self):\n",
    "        \n",
    "        if self.is_empty():\n",
    "            return \"stack is empty XD\"\n",
    "        \n",
    "        return self._head._value\n",
    "\n",
    "    def pop(self):\n",
    "        \n",
    "        if self.is_empty():\n",
    "            return \"stack is empty XD\" \n",
    "        temp=self._head\n",
    "        self._head=temp._nextnode\n",
    "        self._size-=1\n",
    "        return temp._value\n",
    "    \n",
    "    def printstack(self):\n",
    "        temp=self._head\n",
    "        while temp:\n",
    "            print(temp._value,end=\" \")\n",
    "            temp=temp._nextnode"
   ]
  },
  {
   "cell_type": "code",
   "execution_count": 2,
   "metadata": {},
   "outputs": [],
   "source": [
    "stack=Linkedstack()"
   ]
  },
  {
   "cell_type": "code",
   "execution_count": 3,
   "metadata": {},
   "outputs": [],
   "source": [
    "for i in range(0,20,2):\n",
    "    stack.push(i)"
   ]
  },
  {
   "cell_type": "code",
   "execution_count": 4,
   "metadata": {},
   "outputs": [
    {
     "name": "stdout",
     "output_type": "stream",
     "text": [
      "18 16 14 12 10 8 6 4 2 0 "
     ]
    }
   ],
   "source": [
    "stack.printstack()"
   ]
  },
  {
   "cell_type": "code",
   "execution_count": 5,
   "metadata": {},
   "outputs": [
    {
     "data": {
      "text/plain": [
       "18"
      ]
     },
     "execution_count": 5,
     "metadata": {},
     "output_type": "execute_result"
    }
   ],
   "source": [
    "stack.top()"
   ]
  },
  {
   "cell_type": "code",
   "execution_count": 6,
   "metadata": {},
   "outputs": [
    {
     "name": "stdout",
     "output_type": "stream",
     "text": [
      "18 16 14 12 10 8 6 4 2 0 "
     ]
    }
   ],
   "source": [
    "stack.printstack()"
   ]
  },
  {
   "cell_type": "code",
   "execution_count": 7,
   "metadata": {},
   "outputs": [
    {
     "data": {
      "text/plain": [
       "18"
      ]
     },
     "execution_count": 7,
     "metadata": {},
     "output_type": "execute_result"
    }
   ],
   "source": [
    "stack.pop()"
   ]
  },
  {
   "cell_type": "code",
   "execution_count": 8,
   "metadata": {},
   "outputs": [
    {
     "name": "stdout",
     "output_type": "stream",
     "text": [
      "16 14 12 10 8 6 4 2 0 "
     ]
    }
   ],
   "source": [
    "stack.printstack()"
   ]
  },
  {
   "cell_type": "code",
   "execution_count": 9,
   "metadata": {},
   "outputs": [
    {
     "name": "stdout",
     "output_type": "stream",
     "text": [
      "16\n",
      "14\n",
      "12\n",
      "10\n",
      "8\n",
      "6\n",
      "4\n",
      "2\n",
      "0\n",
      "stack is empty XD\n"
     ]
    }
   ],
   "source": [
    "for i in range(10):\n",
    "    print(stack.pop())"
   ]
  },
  {
   "cell_type": "code",
   "execution_count": null,
   "metadata": {},
   "outputs": [],
   "source": []
  }
 ],
 "metadata": {
  "kernelspec": {
   "display_name": "Python 3",
   "language": "python",
   "name": "python3"
  },
  "language_info": {
   "codemirror_mode": {
    "name": "ipython",
    "version": 3
   },
   "file_extension": ".py",
   "mimetype": "text/x-python",
   "name": "python",
   "nbconvert_exporter": "python",
   "pygments_lexer": "ipython3",
   "version": "3.7.3"
  }
 },
 "nbformat": 4,
 "nbformat_minor": 2
}
